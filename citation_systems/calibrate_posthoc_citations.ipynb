{
 "cells": [
  {
   "cell_type": "code",
   "execution_count": 2,
   "id": "912defb2-fccd-4d9b-905a-375faa52d11d",
   "metadata": {},
   "outputs": [],
   "source": [
    "import pandas as pd\n",
    "import numpy as np\n",
    "import json\n",
    "import matplotlib.pyplot as plt"
   ]
  },
  {
   "cell_type": "markdown",
   "id": "f117f475-0706-44d6-b9fb-89ed95ab0289",
   "metadata": {},
   "source": [
    "## Load the results for all of the OPs"
   ]
  },
  {
   "cell_type": "code",
   "execution_count": 117,
   "id": "425f6e2c-c833-4d1c-8004-1205b0714f7f",
   "metadata": {},
   "outputs": [
    {
     "data": {
      "text/plain": [
       "Index(['Unnamed: 0', 'ID', 'All Sources', 'All URLs', 'All Sources (cited)',\n",
       "       'Used Sources (cited)', 'Question', 'Snippet Output (cited)',\n",
       "       'Quoted Output (cited)', 'Paraphrased Output (cited)',\n",
       "       'Entailed Output (cited)', 'Abstractive Output (cited)',\n",
       "       'Snippet Output', 'Quoted Output', 'Paraphrased Output',\n",
       "       'Entailed Output', 'Abstractive Output', 'Quoted Sent (cited)',\n",
       "       'Paraphrased Sent (cited)', 'Entailed Sent (cited)',\n",
       "       'Abstractive Sent (cited)', 'Quoted Sent', 'Paraphrased Sent',\n",
       "       'Entailed Sent', 'Abstractive Sent', 'Quoted Citation Dict',\n",
       "       'Paraphrased Citation Dict', 'Entailed Citation Dict',\n",
       "       'Abstractive Citation Dict', 'Quoted Citation Count',\n",
       "       'Paraphrased Citation Count', 'Entailed Citation Count',\n",
       "       'Abstractive Citation Count', 'Snippet Fluency Rating',\n",
       "       'Snippet Perceived Utility Rating', 'Snippet n-gram precision',\n",
       "       'Quoted Fluency Rating', 'Quoted Perceived Utility Rating',\n",
       "       'Quoted n-gram precision', 'Paraphrased Fluency Rating',\n",
       "       'Paraphrased Perceived Utility Rating', 'Paraphrased n-gram precision',\n",
       "       'Entailed Fluency Rating', 'Entailed Perceived Utility Rating',\n",
       "       'Entailed n-gram precision', 'Abstractive Fluency Rating',\n",
       "       'Abstractive Perceived Utility Rating', 'Abstractive n-gram precision',\n",
       "       'Chunks', 'Max Tokens', 'Temperature',\n",
       "       'Entailed Sentences Need Citation'],\n",
       "      dtype='object')"
      ]
     },
     "execution_count": 117,
     "metadata": {},
     "output_type": "execute_result"
    }
   ],
   "source": [
    "data_str = 'NQ' # NQ, ELI3G, 2WikiMH, MASH\n",
    "\n",
    "n_samples = 0\n",
    "og_op_results_fp = ''\n",
    "post_hoc_results_fp = ''\n",
    "figure_save_fp = ''\n",
    "ct_thresholds = ['1','2','3','4','5','6','7','8','9']\n",
    "\n",
    "if (data_str == 'MASH'):\n",
    "    n_samples = 180\n",
    "    og_op_results_fp = '../mturk_results/posthoc_mash_calibration_600_240_needs_citation_labels.jsonl'\n",
    "    post_hoc_results_fp = '../generation_results/calibration_results/post_hoc_calibration_mash_30words_600_240_CT.{}.jsonl'\n",
    "    figure_save_fp = '../visualize_results/figures/Citation_Threshold_Calibration_MASH.png'\n",
    "    ct_thresholds = ['1','2','25', '3','4','5','6','7','8','9']\n",
    "elif (data_str == '2WikiMH'):\n",
    "    n_samples = 90\n",
    "    og_op_results_fp = '../mturk_results/posthoc_mh_calibration_220_240_needs_citation_labels.jsonl'\n",
    "    post_hoc_results_fp = '../generation_results/calibration_results/post_hoc_calibration_multihop_words_220_240_CT.{}.jsonl'\n",
    "    ct_thresholds = ['025', '05', '1','2','3','4','5','6','7','8','9']\n",
    "    figure_save_fp = '../visualize_results/figures/Citation_Threshold_Calibration_2WikiMH.png'\n",
    "elif (data_str == 'NQ'):\n",
    "    n_samples = 225\n",
    "    og_op_results_fp = '../mturk_results/posthoc_nq_calibration_100_n140_needs_citation_labels_more.jsonl'\n",
    "    post_hoc_results_fp = '../generation_results/calibration_results/post_hoc_calibration_nq_30words_100_140_CT.{}.jsonl'\n",
    "    figure_save_fp = '../visualize_results/figures/Citation_Threshold_Calibration_NQ.png'\n",
    "elif (data_str == 'ELI3G'):\n",
    "    n_samples = 225\n",
    "    og_op_results_fp = '../mturk_results/posthoc_eli3_calibration_0_240_needs_citation_labels.jsonl'\n",
    "    post_hoc_results_fp = '../generation_results/calibration_results/post_hoc_calibration_eli3nq_30words_0_240_CT.{}.jsonl'\n",
    "    ct_thresholds = ['1','2','25', '3','4','5','6','7','8','9']\n",
    "    figure_save_fp = '../visualize_results/figures/Citation_Threshold_Calibration_ELI3G.png'\n",
    "else:\n",
    "    print('dataset not implemented')\n",
    "\n",
    "og_op_results = pd.read_csv(og_op_results_fp, index_col=False)\n",
    "og_op_results = og_op_results.iloc[0:n_samples]\n",
    "# print(len(og_op_results))\n",
    "og_op_results.columns"
   ]
  },
  {
   "cell_type": "code",
   "execution_count": 118,
   "id": "4409e533-877f-4aae-9ef0-e01081684e87",
   "metadata": {},
   "outputs": [
    {
     "name": "stdout",
     "output_type": "stream",
     "text": [
      "225\n",
      "225\n",
      "225\n",
      "225\n",
      "225\n",
      "225\n",
      "225\n",
      "225\n",
      "225\n"
     ]
    },
    {
     "data": {
      "text/plain": [
       "Index(['ID', 'All Sources', 'All URLs', 'All Sources (cited)',\n",
       "       'Used Sources (cited)', 'Question', 'Post Hoc Cited Output (cited)',\n",
       "       'Post Hoc Cited Output', 'Post Hoc Cited Sent (cited)',\n",
       "       'Post Hoc Cited Sent', 'Post Hoc Cited Citation Dict',\n",
       "       'Sentences Need Citation', 'Max Tokens', 'Temperature'],\n",
       "      dtype='object')"
      ]
     },
     "execution_count": 118,
     "metadata": {},
     "output_type": "execute_result"
    }
   ],
   "source": [
    "corrob_only_op_results_by_ct = []\n",
    "for ct_threshold in ct_thresholds:\n",
    "    filename = post_hoc_results_fp.format(ct_threshold)\n",
    "    with open(filename, \"r\") as f:\n",
    "        results = [json.loads(line) for line in f]\n",
    "        df = pd.DataFrame(results)\n",
    "    print(len(df.iloc[0:n_samples]['ID']))\n",
    "    corrob_only_op_results_by_ct.append(df.iloc[0:180])\n",
    "corrob_only_op_results_by_ct[0].columns"
   ]
  },
  {
   "cell_type": "markdown",
   "id": "88f23510-8468-4fc4-8990-b6fdd043d95c",
   "metadata": {},
   "source": [
    "## Function to count\n",
    "Count the avg number of citations per sentence for a df of results"
   ]
  },
  {
   "cell_type": "code",
   "execution_count": 119,
   "id": "0c5e54b0-a085-499a-8a57-c8c0ac9a8ff5",
   "metadata": {},
   "outputs": [],
   "source": [
    "def get_sent_citation_counts(df, op=None):\n",
    "    total_num_citations = 0\n",
    "    total_num_sentences = 0\n",
    "    num_citations_by_sent = []\n",
    "    op_str = ''\n",
    "    if (op):\n",
    "        op_str = op+' '\n",
    "    for i in range(len(df)):\n",
    "        if (op_str+'Citation Dict' in df.columns):\n",
    "            citation_dict = eval(df[op_str+'Citation Dict'].iloc[i])\n",
    "            sentences_need_citation = eval(df['Entailed Sentences Need Citation'].iloc[i]) \n",
    "        else:\n",
    "            citation_dict = df['Post Hoc Cited Citation Dict'].iloc[i]\n",
    "            sentences_need_citation = df['Sentences Need Citation'].iloc[i] \n",
    "        for k in citation_dict.keys():\n",
    "            if ((i==92) and (data_str=='MASH')):\n",
    "                sentences_need_citation = [True]*4\n",
    "            if (sentences_need_citation[int(k)] == False): \n",
    "                continue\n",
    "            total_num_sentences += 1\n",
    "            total_num_citations += len(citation_dict[k]['citation_numbers'])\n",
    "            num_citations_by_sent.append(len(citation_dict[k]['citation_numbers']))\n",
    "    \n",
    "    return num_citations_by_sent\n",
    "\n",
    "def calculate_stats(num_citations_by_sent):\n",
    "    return np.sum(num_citations_by_sent), len(num_citations_by_sent), np.sum(num_citations_by_sent)/len(num_citations_by_sent)"
   ]
  },
  {
   "cell_type": "code",
   "execution_count": 120,
   "id": "680f321e-5ce3-4ac2-bd5a-2ffad4273fcc",
   "metadata": {},
   "outputs": [
    {
     "data": {
      "text/plain": [
       "(387, 274, 1.4124087591240877)"
      ]
     },
     "execution_count": 120,
     "metadata": {},
     "output_type": "execute_result"
    }
   ],
   "source": [
    "calculate_stats(get_sent_citation_counts(og_op_results, 'Entailed'))"
   ]
  },
  {
   "cell_type": "code",
   "execution_count": 121,
   "id": "e3879d40-8b85-4e14-b4dc-62273b9ecdd6",
   "metadata": {},
   "outputs": [
    {
     "data": {
      "text/plain": [
       "[2.9240506329113924,\n",
       " 2.305084745762712,\n",
       " 1.8940677966101696,\n",
       " 1.5847457627118644,\n",
       " 1.3855932203389831,\n",
       " 1.2669491525423728,\n",
       " 1.1101694915254237,\n",
       " 0.902542372881356,\n",
       " 0.7457627118644068]"
      ]
     },
     "execution_count": 121,
     "metadata": {},
     "output_type": "execute_result"
    }
   ],
   "source": [
    "num_per_sentence = []\n",
    "for df in corrob_only_op_results_by_ct:\n",
    "    a,b,c = calculate_stats(get_sent_citation_counts(df))\n",
    "    num_per_sentence.append(c)\n",
    "num_per_sentence"
   ]
  },
  {
   "cell_type": "markdown",
   "id": "05218180-6bcc-45ba-895f-e8c6abcd4926",
   "metadata": {},
   "source": [
    "# Get CIs and plot to choose the citation threshold"
   ]
  },
  {
   "cell_type": "code",
   "execution_count": 122,
   "id": "9f799033-701e-4ee1-aafe-4e8b285560de",
   "metadata": {},
   "outputs": [],
   "source": [
    "def get_half_ci(relevant_col):\n",
    "    return 1.96*np.std(relevant_col, ddof=1) / np.sqrt(len(relevant_col))"
   ]
  },
  {
   "cell_type": "code",
   "execution_count": 123,
   "id": "bff1ee74-a3e6-4d19-8f18-bc1fb95b62f4",
   "metadata": {},
   "outputs": [
    {
     "data": {
      "text/plain": [
       "0.0913249726608053"
      ]
     },
     "execution_count": 123,
     "metadata": {},
     "output_type": "execute_result"
    }
   ],
   "source": [
    "num_citations_by_sent = get_sent_citation_counts(og_op_results, 'Entailed')\n",
    "get_half_ci(num_citations_by_sent)"
   ]
  },
  {
   "cell_type": "code",
   "execution_count": 124,
   "id": "993681b0-32c2-498b-8649-1f5e080f4f1c",
   "metadata": {},
   "outputs": [
    {
     "data": {
      "text/plain": [
       "[0.34873068514299016,\n",
       " 0.3180150023487494,\n",
       " 0.2971055668210105,\n",
       " 0.27744876082922254,\n",
       " 0.26422702494718237,\n",
       " 0.2543793969944519,\n",
       " 0.2379102770886094,\n",
       " 0.20968646231037133,\n",
       " 0.19460717652758483]"
      ]
     },
     "execution_count": 124,
     "metadata": {},
     "output_type": "execute_result"
    }
   ],
   "source": [
    "cis = []\n",
    "for df in corrob_only_op_results_by_ct:\n",
    "    num_citations_by_sent = get_sent_citation_counts(df)\n",
    "    cis.append(get_half_ci(num_citations_by_sent))\n",
    "cis"
   ]
  },
  {
   "cell_type": "code",
   "execution_count": 127,
   "id": "521a720b-0dcd-42a3-acc4-a7732b2bb38d",
   "metadata": {},
   "outputs": [
    {
     "data": {
      "image/png": "[encoded data removed]",
      "text/plain": [
       "<Figure size 640x480 with 1 Axes>"
      ]
     },
     "metadata": {},
     "output_type": "display_data"
    }
   ],
   "source": [
    "ct_thresholds_labels = ['0.'+x for x in ct_thresholds]\n",
    "ct_thresholds_labels_plotting = ct_thresholds_labels+['Entailed Cited Output']\n",
    "num_per_sentence_plotting = num_per_sentence+[calculate_stats(get_sent_citation_counts(og_op_results, 'Entailed'))[2]]\n",
    "cis_plotting = cis+ [get_half_ci(get_sent_citation_counts(og_op_results, 'Entailed'))]\n",
    "plt.bar(ct_thresholds_labels_plotting, num_per_sentence_plotting, yerr=cis_plotting)\n",
    "plt.ylabel('Average number of citations per sentence')\n",
    "plt.xlabel('Citation Threshold')\n",
    "plt.hlines(y=num_per_sentence_plotting[-1], xmin=-.5, xmax=10.5, linewidth=1, color='r', linestyles='dotted')\n",
    "plt.xticks(rotation=90)\n",
    "plt.ylim(0,3.5) \n",
    "# NQ: 3.5 \n",
    "# ELI3G: 2.3\n",
    "# 2WikiMH: 4.3\n",
    "# MASH: 4\n",
    "if (data_str=='ELI3G'):\n",
    "    data_str = 'Eta3G'\n",
    "plt.title('Citation Threshold Calibration: '+data_str)\n",
    "plt.savefig(figure_save_fp, bbox_inches='tight')\n",
    "plt.show();"
   ]
  },
  {
   "cell_type": "markdown",
   "id": "735cf45e-34da-4c35-aeb0-1501ef4cbd6a",
   "metadata": {},
   "source": [
    "# Get average number of words per response"
   ]
  },
  {
   "cell_type": "code",
   "execution_count": 128,
   "id": "05b1d54b-fa98-4a4a-a6c5-16cbbf5f921f",
   "metadata": {},
   "outputs": [
    {
     "data": {
      "text/plain": [
       "(30.060606060606062, 2.83841375416393)"
      ]
     },
     "execution_count": 128,
     "metadata": {},
     "output_type": "execute_result"
    }
   ],
   "source": [
    "avg_word_count = np.mean(og_op_results['Entailed Output'].str.split(' ').dropna().apply(len))\n",
    "ci_word_count = get_half_ci(og_op_results['Entailed Output'].str.split(' ').dropna().apply(len))\n",
    "avg_word_count, ci_word_count"
   ]
  },
  {
   "cell_type": "code",
   "execution_count": 129,
   "id": "83f6a657-2aa4-4f3d-95f8-9c1397d03daf",
   "metadata": {},
   "outputs": [
    {
     "data": {
      "text/plain": [
       "(29.477777777777778, 0.46773602288316307)"
      ]
     },
     "execution_count": 129,
     "metadata": {},
     "output_type": "execute_result"
    }
   ],
   "source": [
    "avg_word_count = np.mean(corrob_only_op_results_by_ct[0]['Post Hoc Cited Output'].str.split(' ').dropna().apply(len))\n",
    "ci_word_count = get_half_ci(corrob_only_op_results_by_ct[0]['Post Hoc Cited Output'].str.split(' ').dropna().apply(len))\n",
    "avg_word_count, ci_word_count"
   ]
  },
  {
   "cell_type": "code",
   "execution_count": null,
   "id": "d749bed9-afe7-44f6-a6c7-207d795aa84f",
   "metadata": {},
   "outputs": [],
   "source": []
  },
  {
   "cell_type": "code",
   "execution_count": null,
   "id": "c27d1d19-d843-4c64-a54d-2e1e84192367",
   "metadata": {},
   "outputs": [],
   "source": []
  }
 ],
 "metadata": {
  "kernelspec": {
   "display_name": "Python 3 (ipykernel)",
   "language": "python",
   "name": "python3"
  },
  "language_info": {
   "codemirror_mode": {
    "name": "ipython",
    "version": 3
   },
   "file_extension": ".py",
   "mimetype": "text/x-python",
   "name": "python",
   "nbconvert_exporter": "python",
   "pygments_lexer": "ipython3",
   "version": "3.12.3"
  }
 },
 "nbformat": 4,
 "nbformat_minor": 5
}
